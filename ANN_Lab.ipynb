{
  "nbformat": 4,
  "nbformat_minor": 0,
  "metadata": {
    "colab": {
      "provenance": [],
      "toc_visible": true,
      "authorship_tag": "ABX9TyOTIJbYnedDkaTd9i9ExZ/3",
      "include_colab_link": true
    },
    "kernelspec": {
      "name": "python3",
      "display_name": "Python 3"
    },
    "language_info": {
      "name": "python"
    }
  },
  "cells": [
    {
      "cell_type": "markdown",
      "metadata": {
        "id": "view-in-github",
        "colab_type": "text"
      },
      "source": [
        "<a href=\"https://colab.research.google.com/github/jagadeesh2oo4/ANN_LAB/blob/main/ANN_Lab.ipynb\" target=\"_parent\"><img src=\"https://colab.research.google.com/assets/colab-badge.svg\" alt=\"Open In Colab\"/></a>"
      ]
    },
    {
      "cell_type": "markdown",
      "source": [
        "Lab 1(Logical gates code)\n"
      ],
      "metadata": {
        "id": "pKEN47RkpwqR"
      }
    },
    {
      "cell_type": "code",
      "execution_count": null,
      "metadata": {
        "id": "erXEVzBNermP"
      },
      "outputs": [],
      "source": [
        "import numpy as np\n",
        "import tensorflow as tf\n",
        "from tensorflow.keras.models import Sequential\n",
        "from tensorflow.keras.layers import Dense\n",
        "from tensorflow.keras.optimizers import Adam"
      ]
    },
    {
      "cell_type": "code",
      "source": [
        "x=np.array([[0,0,0],\n",
        "           [0,0,1],\n",
        "           [0,1,0],\n",
        "           [0,1,1],\n",
        "           [1,0,0],\n",
        "           [1,0,1],\n",
        "           [1,1,0],\n",
        "           [1,1,1]])\n",
        "y=np.array([[0],\n",
        "           [1],\n",
        "           [1],\n",
        "           [1],\n",
        "           [1],\n",
        "           [1],\n",
        "           [1],\n",
        "           [1]]\n",
        "           )"
      ],
      "metadata": {
        "collapsed": true,
        "id": "HrHnzrh6fyH9"
      },
      "execution_count": null,
      "outputs": []
    },
    {
      "cell_type": "markdown",
      "source": [
        "g\n"
      ],
      "metadata": {
        "id": "jT5ct_lApT3K"
      }
    },
    {
      "cell_type": "markdown",
      "source": [],
      "metadata": {
        "id": "2wQAghW7g4a9"
      }
    },
    {
      "cell_type": "code",
      "source": [
        "model=Sequential(Dense(1, input_dim=3, activation='sigmoid'))\n",
        "model.compile(optimizer=Adam(learning_rate=0.1),loss='binary_crossentropy',metrics=['accuracy'])"
      ],
      "metadata": {
        "collapsed": true,
        "id": "KQlGN518gnpU"
      },
      "execution_count": null,
      "outputs": []
    },
    {
      "cell_type": "code",
      "source": [
        "\n",
        "model.fit(x,y,epochs=100,verbose=0)"
      ],
      "metadata": {
        "colab": {
          "base_uri": "https://localhost:8080/"
        },
        "id": "nSewzuw3j_6c",
        "outputId": "2e28ee0d-d815-4345-ed66-c80618b1423c"
      },
      "execution_count": null,
      "outputs": [
        {
          "output_type": "execute_result",
          "data": {
            "text/plain": [
              "<keras.src.callbacks.History at 0x7969d1353310>"
            ]
          },
          "metadata": {},
          "execution_count": 27
        }
      ]
    },
    {
      "cell_type": "code",
      "source": [
        "for i in x:\n",
        "  prediction=model.predict(np.array([i]))\n",
        "  print(f\"input:{i} - prediction: {int(round(prediction.flatten()[0]))}\")"
      ],
      "metadata": {
        "colab": {
          "base_uri": "https://localhost:8080/"
        },
        "id": "AYqkEQApj_0C",
        "outputId": "7d909583-0022-405d-dd97-017d8bbee3f5"
      },
      "execution_count": null,
      "outputs": [
        {
          "output_type": "stream",
          "name": "stdout",
          "text": [
            "1/1 [==============================] - 0s 55ms/step\n",
            "input:[0 0 0] - prediction: 0\n",
            "1/1 [==============================] - 0s 26ms/step\n",
            "input:[0 0 1] - prediction: 1\n",
            "1/1 [==============================] - 0s 22ms/step\n",
            "input:[0 1 0] - prediction: 1\n",
            "1/1 [==============================] - 0s 22ms/step\n",
            "input:[0 1 1] - prediction: 1\n",
            "1/1 [==============================] - 0s 22ms/step\n",
            "input:[1 0 0] - prediction: 1\n",
            "1/1 [==============================] - 0s 24ms/step\n",
            "input:[1 0 1] - prediction: 1\n",
            "1/1 [==============================] - 0s 29ms/step\n",
            "input:[1 1 0] - prediction: 1\n",
            "1/1 [==============================] - 0s 53ms/step\n",
            "input:[1 1 1] - prediction: 1\n"
          ]
        }
      ]
    },
    {
      "cell_type": "markdown",
      "source": [
        "# New Section"
      ],
      "metadata": {
        "id": "x-MYWwkfpvC8"
      }
    },
    {
      "cell_type": "code",
      "source": [
        "import numpy as np\n",
        "x = np.array([[-1,-1,1],\n",
        "           [-1,1,1],\n",
        "           [1,-1,1],\n",
        "           [1,1,1]])\n",
        "y=np.array([-1,-1,-1,1])\n",
        "w=np.zeros(x.shape[1])\n",
        "def hebbian(x,y):\n",
        "  global w\n",
        "  for i in range(len(x)):\n",
        "    delta_w=x[i]*y[i]\n",
        "    w=w+delta_w\n",
        "\n",
        "hebbian(x,y)\n",
        "def test_net(x,w):\n",
        "  for i in range(len(x)):\n",
        "    output=np.dot(x[i],w)\n",
        "  print(f\"Input: {x[i][:2]}, Output:{output}\")\n",
        "\n",
        "print(\"Weights after training\",w)\n",
        "print(\"Testing the network\")\n",
        "test_net(x,w)\n"
      ],
      "metadata": {
        "id": "P8410bVonGfM",
        "colab": {
          "base_uri": "https://localhost:8080/"
        },
        "outputId": "21a27716-8fcb-4f42-b812-58f5c943105f"
      },
      "execution_count": 12,
      "outputs": [
        {
          "output_type": "stream",
          "name": "stdout",
          "text": [
            "Weights after training [ 2.  2. -2.]\n",
            "Testing the network\n",
            "Input: [1 1], Output:2.0\n"
          ]
        }
      ]
    },
    {
      "cell_type": "code",
      "source": [],
      "metadata": {
        "id": "9VQkFw0hwULq"
      },
      "execution_count": null,
      "outputs": []
    }
  ]
}